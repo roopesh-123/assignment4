{
  "nbformat": 4,
  "nbformat_minor": 0,
  "metadata": {
    "colab": {
      "name": "assignment4range",
      "provenance": []
    },
    "kernelspec": {
      "name": "python3",
      "display_name": "Python 3"
    }
  },
  "cells": [
    {
      "cell_type": "code",
      "metadata": {
        "id": "vGOJ4CFAJOaX",
        "colab_type": "code",
        "colab": {
          "base_uri": "https://localhost:8080/",
          "height": 51
        },
        "outputId": "8f02e7a1-2099-415c-dab4-34a58bde5958"
      },
      "source": [
        "#check whether no is in range or No\n",
        "def find(n):\n",
        "  if n in range(1,9):\n",
        "    print(\"number is in the range\")\n",
        "  else:\n",
        "    print(\"number is not in the range\")\n",
        "n=int(input(\"enter the value of n\"))    \n",
        "find(n)      "
      ],
      "execution_count": 2,
      "outputs": [
        {
          "output_type": "stream",
          "text": [
            "enter the value of n4\n",
            "number is in the range\n"
          ],
          "name": "stdout"
        }
      ]
    },
    {
      "cell_type": "code",
      "metadata": {
        "id": "8xMz1QNVJ9K8",
        "colab_type": "code",
        "colab": {}
      },
      "source": [
        ""
      ],
      "execution_count": null,
      "outputs": []
    }
  ]
}