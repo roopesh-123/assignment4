{
  "nbformat": 4,
  "nbformat_minor": 0,
  "metadata": {
    "colab": {
      "name": "assignment4fact",
      "provenance": []
    },
    "kernelspec": {
      "name": "python3",
      "display_name": "Python 3"
    }
  },
  "cells": [
    {
      "cell_type": "code",
      "metadata": {
        "id": "bK6-KGF48rmD",
        "colab_type": "code",
        "colab": {
          "base_uri": "https://localhost:8080/",
          "height": 85
        },
        "outputId": "68395ebf-b3c4-43ff-e375-dcde05350199"
      },
      "source": [
        "def max(a,b,c):\n",
        "  if(a>b) and (a>c):\n",
        "    print(\"a is great\")\n",
        "  elif (b>a) and (b>c):\n",
        "    print(\"b is great\")\n",
        "  else:\n",
        "    print(\"c is great\") \n",
        "\n",
        "a=int(input(\"enter the value of a\"))\n",
        "b=int(input(\"enter the value of b\"))\n",
        "c=int(input(\"enter the value of c\"))\n",
        "max(a,b,c)    "
      ],
      "execution_count": 3,
      "outputs": [
        {
          "output_type": "stream",
          "text": [
            "enter the value of a2\n",
            "enter the value of b3\n",
            "enter the value of c3\n",
            "c is great\n"
          ],
          "name": "stdout"
        }
      ]
    },
    {
      "cell_type": "code",
      "metadata": {
        "id": "pUtk3AqQ9ucY",
        "colab_type": "code",
        "colab": {}
      },
      "source": [
        ""
      ],
      "execution_count": null,
      "outputs": []
    }
  ]
}